np.save('/content/drive/any Drive/python course/ saved_filename:randint_matrix1)
